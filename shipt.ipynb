{
 "cells": [
  {
   "cell_type": "markdown",
   "metadata": {},
   "source": [
    "# Shipt – Interview Exercise Python Analyst "
   ]
  },
  {
   "cell_type": "code",
   "execution_count": 864,
   "metadata": {},
   "outputs": [],
   "source": [
    "#importing all libraries\n",
    "\n",
    "import numpy as np\n",
    "import pandas as pd\n",
    "import matplotlib.pyplot as plt\n",
    "import seaborn as sns"
   ]
  },
  {
   "cell_type": "code",
   "execution_count": 865,
   "metadata": {},
   "outputs": [],
   "source": [
    "#importing all files\n",
    "\n",
    "df= pd.read_csv(\"InterviewData_Activity.csv\") \n",
    "cost= pd.read_csv(\"InterviewData_Cost.csv\") \n",
    "parsing= pd.read_csv(\"InterviewData_Parsing.csv\") \n",
    "rev= pd.read_csv(\"InterviewData_Rev.csv\") "
   ]
  },
  {
   "cell_type": "markdown",
   "metadata": {},
   "source": [
    "# (Q1) Join Revenue and Cost based on Source_id and date, returning all rows from both regardless of whether there is a match between the two data sets"
   ]
  },
  {
   "cell_type": "code",
   "execution_count": 866,
   "metadata": {
    "scrolled": false
   },
   "outputs": [
    {
     "data": {
      "text/html": [
       "<div>\n",
       "<style scoped>\n",
       "    .dataframe tbody tr th:only-of-type {\n",
       "        vertical-align: middle;\n",
       "    }\n",
       "\n",
       "    .dataframe tbody tr th {\n",
       "        vertical-align: top;\n",
       "    }\n",
       "\n",
       "    .dataframe thead th {\n",
       "        text-align: right;\n",
       "    }\n",
       "</style>\n",
       "<table border=\"1\" class=\"dataframe\">\n",
       "  <thead>\n",
       "    <tr style=\"text-align: right;\">\n",
       "      <th></th>\n",
       "      <th>date</th>\n",
       "      <th>source_id</th>\n",
       "      <th>revenue</th>\n",
       "    </tr>\n",
       "  </thead>\n",
       "  <tbody>\n",
       "    <tr>\n",
       "      <th>0</th>\n",
       "      <td>8/1/14</td>\n",
       "      <td>PA0368</td>\n",
       "      <td>5717.0</td>\n",
       "    </tr>\n",
       "    <tr>\n",
       "      <th>1</th>\n",
       "      <td>1/31/14</td>\n",
       "      <td>PA0277</td>\n",
       "      <td>1380.0</td>\n",
       "    </tr>\n",
       "    <tr>\n",
       "      <th>2</th>\n",
       "      <td>6/9/14</td>\n",
       "      <td>PA0745</td>\n",
       "      <td>7535.0</td>\n",
       "    </tr>\n",
       "    <tr>\n",
       "      <th>3</th>\n",
       "      <td>9/1/14</td>\n",
       "      <td>PA0751</td>\n",
       "      <td>2868.0</td>\n",
       "    </tr>\n",
       "    <tr>\n",
       "      <th>4</th>\n",
       "      <td>3/12/14</td>\n",
       "      <td>PA0859</td>\n",
       "      <td>10757.0</td>\n",
       "    </tr>\n",
       "  </tbody>\n",
       "</table>\n",
       "</div>"
      ],
      "text/plain": [
       "      date source_id  revenue\n",
       "0   8/1/14    PA0368   5717.0\n",
       "1  1/31/14    PA0277   1380.0\n",
       "2   6/9/14    PA0745   7535.0\n",
       "3   9/1/14    PA0751   2868.0\n",
       "4  3/12/14    PA0859  10757.0"
      ]
     },
     "execution_count": 866,
     "metadata": {},
     "output_type": "execute_result"
    }
   ],
   "source": [
    "#let us see how the data for InterviewData_Rev looks like\n",
    "rev.head()"
   ]
  },
  {
   "cell_type": "code",
   "execution_count": 867,
   "metadata": {},
   "outputs": [
    {
     "data": {
      "text/html": [
       "<div>\n",
       "<style scoped>\n",
       "    .dataframe tbody tr th:only-of-type {\n",
       "        vertical-align: middle;\n",
       "    }\n",
       "\n",
       "    .dataframe tbody tr th {\n",
       "        vertical-align: top;\n",
       "    }\n",
       "\n",
       "    .dataframe thead th {\n",
       "        text-align: right;\n",
       "    }\n",
       "</style>\n",
       "<table border=\"1\" class=\"dataframe\">\n",
       "  <thead>\n",
       "    <tr style=\"text-align: right;\">\n",
       "      <th></th>\n",
       "      <th>date</th>\n",
       "      <th>source_id</th>\n",
       "      <th>cost</th>\n",
       "    </tr>\n",
       "  </thead>\n",
       "  <tbody>\n",
       "    <tr>\n",
       "      <th>0</th>\n",
       "      <td>10/17/14</td>\n",
       "      <td>PA0577</td>\n",
       "      <td>7168.0</td>\n",
       "    </tr>\n",
       "    <tr>\n",
       "      <th>1</th>\n",
       "      <td>8/17/14</td>\n",
       "      <td>PA0354</td>\n",
       "      <td>7615.0</td>\n",
       "    </tr>\n",
       "    <tr>\n",
       "      <th>2</th>\n",
       "      <td>1/7/14</td>\n",
       "      <td>PA0607</td>\n",
       "      <td>4054.0</td>\n",
       "    </tr>\n",
       "    <tr>\n",
       "      <th>3</th>\n",
       "      <td>8/25/14</td>\n",
       "      <td>PA0745</td>\n",
       "      <td>9317.0</td>\n",
       "    </tr>\n",
       "    <tr>\n",
       "      <th>4</th>\n",
       "      <td>11/30/14</td>\n",
       "      <td>PA0923</td>\n",
       "      <td>5586.0</td>\n",
       "    </tr>\n",
       "  </tbody>\n",
       "</table>\n",
       "</div>"
      ],
      "text/plain": [
       "       date source_id    cost\n",
       "0  10/17/14    PA0577  7168.0\n",
       "1   8/17/14    PA0354  7615.0\n",
       "2    1/7/14    PA0607  4054.0\n",
       "3   8/25/14    PA0745  9317.0\n",
       "4  11/30/14    PA0923  5586.0"
      ]
     },
     "execution_count": 867,
     "metadata": {},
     "output_type": "execute_result"
    }
   ],
   "source": [
    "#let us see how the data for InterviewData_Cost looks like\n",
    "cost.head()"
   ]
  },
  {
   "cell_type": "markdown",
   "metadata": {},
   "source": [
    "Here, I merged the cost and rev dataframes on the condition that they match on the date and source_id, \n",
    "how=\"outer\" indicates it is an outer join, i.e., all rows from both the data frames are joined even of they aren't present in the other dataframe"
   ]
  },
  {
   "cell_type": "code",
   "execution_count": 868,
   "metadata": {},
   "outputs": [
    {
     "data": {
      "text/html": [
       "<div>\n",
       "<style scoped>\n",
       "    .dataframe tbody tr th:only-of-type {\n",
       "        vertical-align: middle;\n",
       "    }\n",
       "\n",
       "    .dataframe tbody tr th {\n",
       "        vertical-align: top;\n",
       "    }\n",
       "\n",
       "    .dataframe thead th {\n",
       "        text-align: right;\n",
       "    }\n",
       "</style>\n",
       "<table border=\"1\" class=\"dataframe\">\n",
       "  <thead>\n",
       "    <tr style=\"text-align: right;\">\n",
       "      <th></th>\n",
       "      <th>date</th>\n",
       "      <th>source_id</th>\n",
       "      <th>revenue</th>\n",
       "      <th>cost</th>\n",
       "      <th>_merge</th>\n",
       "    </tr>\n",
       "  </thead>\n",
       "  <tbody>\n",
       "    <tr>\n",
       "      <th>0</th>\n",
       "      <td>8/1/14</td>\n",
       "      <td>PA0368</td>\n",
       "      <td>5717.0</td>\n",
       "      <td>NaN</td>\n",
       "      <td>left_only</td>\n",
       "    </tr>\n",
       "    <tr>\n",
       "      <th>1</th>\n",
       "      <td>1/31/14</td>\n",
       "      <td>PA0277</td>\n",
       "      <td>1380.0</td>\n",
       "      <td>NaN</td>\n",
       "      <td>left_only</td>\n",
       "    </tr>\n",
       "    <tr>\n",
       "      <th>2</th>\n",
       "      <td>6/9/14</td>\n",
       "      <td>PA0745</td>\n",
       "      <td>7535.0</td>\n",
       "      <td>588.0</td>\n",
       "      <td>both</td>\n",
       "    </tr>\n",
       "    <tr>\n",
       "      <th>3</th>\n",
       "      <td>9/1/14</td>\n",
       "      <td>PA0751</td>\n",
       "      <td>2868.0</td>\n",
       "      <td>3736.0</td>\n",
       "      <td>both</td>\n",
       "    </tr>\n",
       "    <tr>\n",
       "      <th>4</th>\n",
       "      <td>3/12/14</td>\n",
       "      <td>PA0859</td>\n",
       "      <td>10757.0</td>\n",
       "      <td>1391.0</td>\n",
       "      <td>both</td>\n",
       "    </tr>\n",
       "    <tr>\n",
       "      <th>5</th>\n",
       "      <td>8/10/14</td>\n",
       "      <td>PA0470</td>\n",
       "      <td>9988.0</td>\n",
       "      <td>9627.0</td>\n",
       "      <td>both</td>\n",
       "    </tr>\n",
       "    <tr>\n",
       "      <th>6</th>\n",
       "      <td>9/4/14</td>\n",
       "      <td>PA0482</td>\n",
       "      <td>9389.0</td>\n",
       "      <td>5123.0</td>\n",
       "      <td>both</td>\n",
       "    </tr>\n",
       "    <tr>\n",
       "      <th>7</th>\n",
       "      <td>12/6/14</td>\n",
       "      <td>PA0482</td>\n",
       "      <td>2744.0</td>\n",
       "      <td>NaN</td>\n",
       "      <td>left_only</td>\n",
       "    </tr>\n",
       "    <tr>\n",
       "      <th>8</th>\n",
       "      <td>6/2/14</td>\n",
       "      <td>PA0830</td>\n",
       "      <td>859.0</td>\n",
       "      <td>1820.0</td>\n",
       "      <td>both</td>\n",
       "    </tr>\n",
       "    <tr>\n",
       "      <th>9</th>\n",
       "      <td>2/11/14</td>\n",
       "      <td>PA0958</td>\n",
       "      <td>4132.0</td>\n",
       "      <td>5147.0</td>\n",
       "      <td>both</td>\n",
       "    </tr>\n",
       "  </tbody>\n",
       "</table>\n",
       "</div>"
      ],
      "text/plain": [
       "      date source_id  revenue    cost     _merge\n",
       "0   8/1/14    PA0368   5717.0     NaN  left_only\n",
       "1  1/31/14    PA0277   1380.0     NaN  left_only\n",
       "2   6/9/14    PA0745   7535.0   588.0       both\n",
       "3   9/1/14    PA0751   2868.0  3736.0       both\n",
       "4  3/12/14    PA0859  10757.0  1391.0       both\n",
       "5  8/10/14    PA0470   9988.0  9627.0       both\n",
       "6   9/4/14    PA0482   9389.0  5123.0       both\n",
       "7  12/6/14    PA0482   2744.0     NaN  left_only\n",
       "8   6/2/14    PA0830    859.0  1820.0       both\n",
       "9  2/11/14    PA0958   4132.0  5147.0       both"
      ]
     },
     "execution_count": 868,
     "metadata": {},
     "output_type": "execute_result"
    }
   ],
   "source": [
    "merge_cv=pd.merge(rev,cost,on=['date','source_id'],how='outer',indicator=True)\n",
    "merge_cv.head(10)"
   ]
  },
  {
   "cell_type": "markdown",
   "metadata": {},
   "source": [
    "# (Q2) join these two data sets by “date” and “source_id”, returning only the rows from the “Cost” file that have no corresponding date in the “Revenue” file"
   ]
  },
  {
   "cell_type": "markdown",
   "metadata": {},
   "source": [
    "The problem is a little ambiguous, if I join cost and revenue on source_id and date, it automatically filters out those dates from revenue, which are present in cost as well, but their source_id's are different.\n",
    "\n",
    "I am assuming the problem meant create a dataset by joining cost and revenue on source_id, date\n",
    "then, from this new dataset, return only the rows from the \"Cost\" file with no corresponding date in the \"Revenue\" file."
   ]
  },
  {
   "cell_type": "code",
   "execution_count": 869,
   "metadata": {},
   "outputs": [
    {
     "data": {
      "text/html": [
       "<div>\n",
       "<style scoped>\n",
       "    .dataframe tbody tr th:only-of-type {\n",
       "        vertical-align: middle;\n",
       "    }\n",
       "\n",
       "    .dataframe tbody tr th {\n",
       "        vertical-align: top;\n",
       "    }\n",
       "\n",
       "    .dataframe thead th {\n",
       "        text-align: right;\n",
       "    }\n",
       "</style>\n",
       "<table border=\"1\" class=\"dataframe\">\n",
       "  <thead>\n",
       "    <tr style=\"text-align: right;\">\n",
       "      <th></th>\n",
       "      <th>date</th>\n",
       "      <th>source_id</th>\n",
       "      <th>revenue</th>\n",
       "      <th>cost</th>\n",
       "      <th>_merge</th>\n",
       "    </tr>\n",
       "  </thead>\n",
       "  <tbody>\n",
       "    <tr>\n",
       "      <th>9995</th>\n",
       "      <td>12/7/14</td>\n",
       "      <td>PA0900</td>\n",
       "      <td>NaN</td>\n",
       "      <td>2037.0</td>\n",
       "      <td>right_only</td>\n",
       "    </tr>\n",
       "    <tr>\n",
       "      <th>9996</th>\n",
       "      <td>7/11/14</td>\n",
       "      <td>PA0474</td>\n",
       "      <td>NaN</td>\n",
       "      <td>726.0</td>\n",
       "      <td>right_only</td>\n",
       "    </tr>\n",
       "    <tr>\n",
       "      <th>9997</th>\n",
       "      <td>1/10/14</td>\n",
       "      <td>PA0830</td>\n",
       "      <td>NaN</td>\n",
       "      <td>6202.0</td>\n",
       "      <td>right_only</td>\n",
       "    </tr>\n",
       "    <tr>\n",
       "      <th>9998</th>\n",
       "      <td>1/31/14</td>\n",
       "      <td>PA0467</td>\n",
       "      <td>NaN</td>\n",
       "      <td>7057.0</td>\n",
       "      <td>right_only</td>\n",
       "    </tr>\n",
       "    <tr>\n",
       "      <th>9999</th>\n",
       "      <td>10/1/14</td>\n",
       "      <td>PA0293</td>\n",
       "      <td>NaN</td>\n",
       "      <td>1053.0</td>\n",
       "      <td>right_only</td>\n",
       "    </tr>\n",
       "  </tbody>\n",
       "</table>\n",
       "</div>"
      ],
      "text/plain": [
       "         date source_id  revenue    cost      _merge\n",
       "9995  12/7/14    PA0900      NaN  2037.0  right_only\n",
       "9996  7/11/14    PA0474      NaN   726.0  right_only\n",
       "9997  1/10/14    PA0830      NaN  6202.0  right_only\n",
       "9998  1/31/14    PA0467      NaN  7057.0  right_only\n",
       "9999  10/1/14    PA0293      NaN  1053.0  right_only"
      ]
     },
     "execution_count": 869,
     "metadata": {},
     "output_type": "execute_result"
    }
   ],
   "source": [
    "#here, I created a right join on cost, the indicator shows whether the source_id, dates were common between the datasets, or only in cost\n",
    "\n",
    "merge_cv2=pd.merge(rev,cost,on=['date','source_id'],how='right',indicator=True)\n",
    "merge_cv2.tail(5)"
   ]
  },
  {
   "cell_type": "markdown",
   "metadata": {},
   "source": [
    "now, I'll filter out the rows from the new dataset such that the date was present in only cost and not revenue, then I'll drop unnecessary columns"
   ]
  },
  {
   "cell_type": "code",
   "execution_count": 870,
   "metadata": {},
   "outputs": [
    {
     "data": {
      "text/html": [
       "<div>\n",
       "<style scoped>\n",
       "    .dataframe tbody tr th:only-of-type {\n",
       "        vertical-align: middle;\n",
       "    }\n",
       "\n",
       "    .dataframe tbody tr th {\n",
       "        vertical-align: top;\n",
       "    }\n",
       "\n",
       "    .dataframe thead th {\n",
       "        text-align: right;\n",
       "    }\n",
       "</style>\n",
       "<table border=\"1\" class=\"dataframe\">\n",
       "  <thead>\n",
       "    <tr style=\"text-align: right;\">\n",
       "      <th></th>\n",
       "      <th>date</th>\n",
       "      <th>source_id</th>\n",
       "      <th>cost</th>\n",
       "    </tr>\n",
       "  </thead>\n",
       "  <tbody>\n",
       "    <tr>\n",
       "      <th>5382</th>\n",
       "      <td>11/30/14</td>\n",
       "      <td>PA0923</td>\n",
       "      <td>5586.0</td>\n",
       "    </tr>\n",
       "    <tr>\n",
       "      <th>5383</th>\n",
       "      <td>12/17/14</td>\n",
       "      <td>PA0952</td>\n",
       "      <td>6662.0</td>\n",
       "    </tr>\n",
       "    <tr>\n",
       "      <th>5384</th>\n",
       "      <td>5/22/14</td>\n",
       "      <td>PA0411</td>\n",
       "      <td>4795.0</td>\n",
       "    </tr>\n",
       "    <tr>\n",
       "      <th>5385</th>\n",
       "      <td>10/14/14</td>\n",
       "      <td>PA0168</td>\n",
       "      <td>9651.0</td>\n",
       "    </tr>\n",
       "    <tr>\n",
       "      <th>5386</th>\n",
       "      <td>2/13/14</td>\n",
       "      <td>PA0354</td>\n",
       "      <td>2752.0</td>\n",
       "    </tr>\n",
       "  </tbody>\n",
       "</table>\n",
       "</div>"
      ],
      "text/plain": [
       "          date source_id    cost\n",
       "5382  11/30/14    PA0923  5586.0\n",
       "5383  12/17/14    PA0952  6662.0\n",
       "5384   5/22/14    PA0411  4795.0\n",
       "5385  10/14/14    PA0168  9651.0\n",
       "5386   2/13/14    PA0354  2752.0"
      ]
     },
     "execution_count": 870,
     "metadata": {},
     "output_type": "execute_result"
    }
   ],
   "source": [
    "cost_only =merge_cv2[merge_cv2['_merge'] == 'right_only']\n",
    "cost_only = cost_only.drop(cost_only .columns[[2,4]], axis=1) \n",
    "cost_only.head()"
   ]
  },
  {
   "cell_type": "markdown",
   "metadata": {},
   "source": [
    "# (Q 3A) Using your result from #1, what are the Top 4 sources (“source_id” values) in terms of total revenue generation across this data set?"
   ]
  },
  {
   "cell_type": "code",
   "execution_count": 490,
   "metadata": {},
   "outputs": [],
   "source": [
    "dataframe_agg = merge_cv.groupby(['source_id']).agg({'revenue':sum}).sort_values('revenue', ascending=False).reset_index().head(4)"
   ]
  },
  {
   "cell_type": "markdown",
   "metadata": {},
   "source": [
    "In the above code, I calculated the total sum of revenue for each source_id for the entire year, sorted them by the revenue, and using head(4), extracted the top 4 source_id"
   ]
  },
  {
   "cell_type": "code",
   "execution_count": 829,
   "metadata": {},
   "outputs": [
    {
     "name": "stdout",
     "output_type": "stream",
     "text": [
      "The top four source_id's and their corresponding revenues are:\n"
     ]
    },
    {
     "data": {
      "text/html": [
       "<div>\n",
       "<style scoped>\n",
       "    .dataframe tbody tr th:only-of-type {\n",
       "        vertical-align: middle;\n",
       "    }\n",
       "\n",
       "    .dataframe tbody tr th {\n",
       "        vertical-align: top;\n",
       "    }\n",
       "\n",
       "    .dataframe thead th {\n",
       "        text-align: right;\n",
       "    }\n",
       "</style>\n",
       "<table border=\"1\" class=\"dataframe\">\n",
       "  <thead>\n",
       "    <tr style=\"text-align: right;\">\n",
       "      <th></th>\n",
       "      <th>source_id</th>\n",
       "      <th>revenue</th>\n",
       "    </tr>\n",
       "  </thead>\n",
       "  <tbody>\n",
       "    <tr>\n",
       "      <th>0</th>\n",
       "      <td>PA0527</td>\n",
       "      <td>1385747.0</td>\n",
       "    </tr>\n",
       "    <tr>\n",
       "      <th>1</th>\n",
       "      <td>PA0308</td>\n",
       "      <td>1338615.0</td>\n",
       "    </tr>\n",
       "    <tr>\n",
       "      <th>2</th>\n",
       "      <td>PA0352</td>\n",
       "      <td>1309685.0</td>\n",
       "    </tr>\n",
       "    <tr>\n",
       "      <th>3</th>\n",
       "      <td>PA0552</td>\n",
       "      <td>1283190.0</td>\n",
       "    </tr>\n",
       "  </tbody>\n",
       "</table>\n",
       "</div>"
      ],
      "text/plain": [
       "  source_id    revenue\n",
       "0    PA0527  1385747.0\n",
       "1    PA0308  1338615.0\n",
       "2    PA0352  1309685.0\n",
       "3    PA0552  1283190.0"
      ]
     },
     "execution_count": 829,
     "metadata": {},
     "output_type": "execute_result"
    }
   ],
   "source": [
    "print(\"The top four source_id's and their corresponding revenues are:\")\n",
    "dataframe_agg"
   ]
  },
  {
   "cell_type": "markdown",
   "metadata": {},
   "source": [
    "# (Q 3B) How would you visualize the monthly revenue for those Top 4 sources?"
   ]
  },
  {
   "cell_type": "markdown",
   "metadata": {},
   "source": [
    "I would use a line chart to visualize the monthly revenue from the top 4 sources. Since month (time) is a continuous variable, it won't make sense to use a bar graph. Instead, a line chart will allow us to compare the revenue at any point of time for ay source id. Although not needed, but I'll create a line chart to showcase my analysis visually. "
   ]
  },
  {
   "cell_type": "markdown",
   "metadata": {},
   "source": [
    "Here, I converted the date column to datatype DateTime, so I could extract the month and aggregate the monthly revenue for the top 4 source_ids"
   ]
  },
  {
   "cell_type": "code",
   "execution_count": 871,
   "metadata": {},
   "outputs": [
    {
     "name": "stderr",
     "output_type": "stream",
     "text": [
      "C:\\Users\\imsid\\Anaconda3\\lib\\site-packages\\ipykernel_launcher.py:3: SettingWithCopyWarning: \n",
      "A value is trying to be set on a copy of a slice from a DataFrame.\n",
      "Try using .loc[row_indexer,col_indexer] = value instead\n",
      "\n",
      "See the caveats in the documentation: https://pandas.pydata.org/pandas-docs/stable/user_guide/indexing.html#returning-a-view-versus-a-copy\n",
      "  This is separate from the ipykernel package so we can avoid doing imports until\n",
      "C:\\Users\\imsid\\Anaconda3\\lib\\site-packages\\ipykernel_launcher.py:4: SettingWithCopyWarning: \n",
      "A value is trying to be set on a copy of a slice from a DataFrame.\n",
      "Try using .loc[row_indexer,col_indexer] = value instead\n",
      "\n",
      "See the caveats in the documentation: https://pandas.pydata.org/pandas-docs/stable/user_guide/indexing.html#returning-a-view-versus-a-copy\n",
      "  after removing the cwd from sys.path.\n"
     ]
    }
   ],
   "source": [
    "top_source_id=dataframe_agg.source_id.to_list()\n",
    "dataframe_1= merge_cv[merge_cv.source_id.isin(top_source_id)]\n",
    "dataframe_1['date'] = pd.to_datetime(dataframe_1['date'])\n",
    "dataframe_1['month'] = pd.DatetimeIndex(dataframe_1['date']).month\n",
    "\n",
    "dataframe_1 =dataframe_1.groupby(['source_id','month']).agg({'revenue':sum}).sort_values('revenue', ascending=False).reset_index()\n",
    "g=pd.pivot_table(dataframe_1, columns=\"source_id\",values = 'revenue', index='month').reset_index()"
   ]
  },
  {
   "cell_type": "code",
   "execution_count": 872,
   "metadata": {},
   "outputs": [
    {
     "data": {
      "image/png": "[encoded data removed]",
      "text/plain": [
       "<Figure size 1152x288 with 1 Axes>"
      ]
     },
     "metadata": {
      "needs_background": "light"
     },
     "output_type": "display_data"
    }
   ],
   "source": [
    "fig= plt.figure(figsize=(16,4))\n",
    "\n",
    "plt.plot(g['month'], g['PA0308'], color='red', marker='o', label='PA0308')\n",
    "plt.plot(g['month'], g['PA0352'], color='blue', marker='o',label='PA0352')\n",
    "plt.plot(g['month'], g['PA0527'], color='green', marker='o', label='PA0527')\n",
    "plt.plot(g['month'], g['PA0552'], color='orange', marker='o', label='PA0552')\n",
    "plt.title('Revenue Vs Month for the top 4 source ids', fontsize=14)\n",
    "\n",
    "plt.xlabel('Month', fontsize=14)\n",
    "plt.ylabel('Revenue', fontsize=14)\n",
    "plt.grid(True)\n",
    "\n",
    "plt.legend(loc=\"upper left\")\n",
    "plt.show()"
   ]
  },
  {
   "cell_type": "markdown",
   "metadata": {},
   "source": [
    "# Q4) run the following code to build a basic logistic regression model:\n"
   ]
  },
  {
   "cell_type": "code",
   "execution_count": 873,
   "metadata": {},
   "outputs": [],
   "source": [
    "dummy_genders = pd.get_dummies(df['gender'], prefix = 'gender')\n",
    "dummy_metro = pd.get_dummies(df['metropolitan_area'], prefix = 'metro_area')\n",
    "dummy_device = pd.get_dummies(df['device_type'], prefix = 'device')\n",
    "cols_to_keep = ['active', 'age']\n",
    "activity_data = df[cols_to_keep].join(dummy_genders.loc[:, 'gender_M':])\n",
    "activity_data = activity_data.join(dummy_metro.loc[:, 'metro_area_Birmingham':])\n",
    "\n",
    "activity_data = activity_data.join(dummy_device.loc[:, 'device_Mobile':])\n",
    "activity_data = sm.add_constant(activity_data, prepend=False)\n",
    "explanatory_cols = activity_data.columns[1:]\n",
    "full_logit_model = sm.GLM(activity_data['active'], activity_data[explanatory_cols], family=sm.families.Binomial())\n",
    "result = full_logit_model.fit()"
   ]
  },
  {
   "cell_type": "code",
   "execution_count": 874,
   "metadata": {},
   "outputs": [],
   "source": [
    "def conf_mat(y, x):\n",
    "    y_pred = []\n",
    "    for a in result.predict(x).tolist():\n",
    "        if a >= 0.5:\n",
    "            y_pred.append(1)\n",
    "        else:\n",
    "            y_pred.append(0)\n",
    "    print(\"The confusion Matrix is:\")\n",
    "    print(metrics.confusion_matrix(y,y_pred))\n",
    "    cm = metrics.confusion_matrix(y,y_pred)\n",
    "    \n",
    "    TN = cm[1][1]\n",
    "    TP = cm[0][0]\n",
    "    FN = cm[0][1]\n",
    "    FP = cm[1][0]\n",
    "    \n",
    "    print(\"The accuracy score is:\", (TP + TN) / (TP + TP + FN + FP))\n",
    "    print(\"The precision score is:\", (TN) / (TN + FN))"
   ]
  },
  {
   "cell_type": "code",
   "execution_count": 875,
   "metadata": {},
   "outputs": [
    {
     "name": "stdout",
     "output_type": "stream",
     "text": [
      "The confusion Matrix is:\n",
      "[[1626 1164]\n",
      " [1109 1521]]\n",
      "The accuracy score is: 0.5695927601809955\n",
      "The precision score is: 0.5664804469273743\n"
     ]
    }
   ],
   "source": [
    "conf_mat(activity_data['active'], activity_data[explanatory_cols])"
   ]
  },
  {
   "cell_type": "markdown",
   "metadata": {},
   "source": [
    "# (Q5) Split the data into training and test samples, and build a model over the training data "
   ]
  },
  {
   "cell_type": "code",
   "execution_count": 876,
   "metadata": {},
   "outputs": [],
   "source": [
    "training_data = activity_data[1:4000]\n",
    "test_data = activity_data[4001:].copy()\n",
    "training_logit_model = sm.GLM(training_data['active'],\n",
    "training_data[explanatory_cols],\n",
    "family=sm.families.Binomial())\n",
    "training_result = training_logit_model.fit()"
   ]
  },
  {
   "cell_type": "code",
   "execution_count": 877,
   "metadata": {},
   "outputs": [
    {
     "name": "stdout",
     "output_type": "stream",
     "text": [
      "The confusion Matrix is:\n",
      "[[787 503]\n",
      " [ 53  76]]\n",
      "The accuracy score is: 0.4051643192488263\n",
      "The precision score is: 0.13126079447322972\n"
     ]
    }
   ],
   "source": [
    "conf_mat(test_data['active'],test_data[explanatory_cols])"
   ]
  },
  {
   "cell_type": "code",
   "execution_count": 878,
   "metadata": {},
   "outputs": [
    {
     "name": "stdout",
     "output_type": "stream",
     "text": [
      "The Accuray of the model falls by: 28.87 % when it is tested on unseen data\n"
     ]
    }
   ],
   "source": [
    "print(\"The Accuray of the model falls by:\",round(100*(0.5695927601809955- 0.4051643192488263)/0.5695927601809955,2), \"% when it is tested on unseen data\")"
   ]
  },
  {
   "cell_type": "markdown",
   "metadata": {},
   "source": [
    "The reason for such a low accuracy is, earlier it was tested on the same data on which it was trained i.e. The model was not generalized.\n",
    "\n",
    "Generalization means how well our machine learning model can learn the training data concepts and apply them to specific examples not seen by it (test data). In simple words, it suffers from Overfitting. \n",
    "\n",
    "Overfitting happens because our model learns the outliers, anomalies, and noise from the training data to such an extent that it incorrectly affects its performance on the test data (unseen data). The low accuracy is because these concepts don't apply to test (new data) and negatively impact the model's ability to generalize.\n",
    "\n",
    "An excellent way to test Overfitting and improve it is by using k-fold validation."
   ]
  },
  {
   "cell_type": "markdown",
   "metadata": {},
   "source": [
    "# (Q6) Parse out the values (stored in the “data_to_parse” column) into four separate columns"
   ]
  },
  {
   "cell_type": "markdown",
   "metadata": {},
   "source": [
    "I created a copy of the original column - data_to_parse so I can manipulate it and split it without affecting the original column"
   ]
  },
  {
   "cell_type": "code",
   "execution_count": 879,
   "metadata": {},
   "outputs": [],
   "source": [
    "parsing[\"data_to_parse_copy\"]=parsing[\"data_to_parse\"]"
   ]
  },
  {
   "cell_type": "code",
   "execution_count": 880,
   "metadata": {},
   "outputs": [],
   "source": [
    "# replaced the unnecessary values by replacing them with blank spaces, then I split the column to remove useless data. then drooped the duplicate column\n",
    "\n",
    "parsing['data_to_parse_copy'] = parsing['data_to_parse_copy'].str.replace('}','').str.replace(']','').str.replace('\"','').str.replace('value','').str.replace(':','')\n",
    "parsing[['One','Two','Three','Four']] = parsing.data_to_parse_copy.str.split(\";\",expand=True) \n",
    "parsing = parsing.drop('data_to_parse_copy', axis=1)"
   ]
  },
  {
   "cell_type": "code",
   "execution_count": 881,
   "metadata": {},
   "outputs": [
    {
     "data": {
      "text/html": [
       "<div>\n",
       "<style scoped>\n",
       "    .dataframe tbody tr th:only-of-type {\n",
       "        vertical-align: middle;\n",
       "    }\n",
       "\n",
       "    .dataframe tbody tr th {\n",
       "        vertical-align: top;\n",
       "    }\n",
       "\n",
       "    .dataframe thead th {\n",
       "        text-align: right;\n",
       "    }\n",
       "</style>\n",
       "<table border=\"1\" class=\"dataframe\">\n",
       "  <thead>\n",
       "    <tr style=\"text-align: right;\">\n",
       "      <th></th>\n",
       "      <th>userid</th>\n",
       "      <th>data_to_parse</th>\n",
       "      <th>One</th>\n",
       "      <th>Two</th>\n",
       "      <th>Three</th>\n",
       "      <th>Four</th>\n",
       "    </tr>\n",
       "  </thead>\n",
       "  <tbody>\n",
       "    <tr>\n",
       "      <th>0</th>\n",
       "      <td>54f3ad9a29ada</td>\n",
       "      <td>\"value\":\"N;U;A7;W\"}]</td>\n",
       "      <td>N</td>\n",
       "      <td>U</td>\n",
       "      <td>A7</td>\n",
       "      <td>W</td>\n",
       "    </tr>\n",
       "    <tr>\n",
       "      <th>1</th>\n",
       "      <td>54f69f2de6aec</td>\n",
       "      <td>\"value\":\"N;U;I6;W\"}]</td>\n",
       "      <td>N</td>\n",
       "      <td>U</td>\n",
       "      <td>I6</td>\n",
       "      <td>W</td>\n",
       "    </tr>\n",
       "    <tr>\n",
       "      <th>2</th>\n",
       "      <td>54f650f004474</td>\n",
       "      <td>\"value\":\"Y;U;A7;W\"}]</td>\n",
       "      <td>Y</td>\n",
       "      <td>U</td>\n",
       "      <td>A7</td>\n",
       "      <td>W</td>\n",
       "    </tr>\n",
       "    <tr>\n",
       "      <th>3</th>\n",
       "      <td>54f52e8872227</td>\n",
       "      <td>\"value\":\"N;U;I1;W\"}]</td>\n",
       "      <td>N</td>\n",
       "      <td>U</td>\n",
       "      <td>I1</td>\n",
       "      <td>W</td>\n",
       "    </tr>\n",
       "    <tr>\n",
       "      <th>4</th>\n",
       "      <td>54f64d3075b72</td>\n",
       "      <td>\"value\":\"Y;U;A7;W\"}]</td>\n",
       "      <td>Y</td>\n",
       "      <td>U</td>\n",
       "      <td>A7</td>\n",
       "      <td>W</td>\n",
       "    </tr>\n",
       "  </tbody>\n",
       "</table>\n",
       "</div>"
      ],
      "text/plain": [
       "          userid         data_to_parse One Two Three Four\n",
       "0  54f3ad9a29ada  \"value\":\"N;U;A7;W\"}]   N   U    A7    W\n",
       "1  54f69f2de6aec  \"value\":\"N;U;I6;W\"}]   N   U    I6    W\n",
       "2  54f650f004474  \"value\":\"Y;U;A7;W\"}]   Y   U    A7    W\n",
       "3  54f52e8872227  \"value\":\"N;U;I1;W\"}]   N   U    I1    W\n",
       "4  54f64d3075b72  \"value\":\"Y;U;A7;W\"}]   Y   U    A7    W"
      ]
     },
     "execution_count": 881,
     "metadata": {},
     "output_type": "execute_result"
    }
   ],
   "source": [
    "parsing.head()"
   ]
  }
 ],
 "metadata": {
  "kernelspec": {
   "display_name": "Python 3",
   "language": "python",
   "name": "python3"
  },
  "language_info": {
   "codemirror_mode": {
    "name": "ipython",
    "version": 3
   },
   "file_extension": ".py",
   "mimetype": "text/x-python",
   "name": "python",
   "nbconvert_exporter": "python",
   "pygments_lexer": "ipython3",
   "version": "3.7.1"
  }
 },
 "nbformat": 4,
 "nbformat_minor": 4
}
